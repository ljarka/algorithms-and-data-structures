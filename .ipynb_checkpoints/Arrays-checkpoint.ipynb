{
 "cells": [
  {
   "cell_type": "markdown",
   "metadata": {},
   "source": [
    "# Arrays\n",
    "\n",
    "* Arrays are stored as a contiguous block of memory"
   ]
  },
  {
   "cell_type": "markdown",
   "metadata": {},
   "source": [
    "## Two sum\n",
    "https://leetcode.com/problems/two-sum/\n",
    "\n",
    "## Two Sum Algorithm\n",
    "\n",
    "Certainly, here are the more general algorithms written in Markdown format:\n",
    "\n",
    "### Two Sum Algorithm\n",
    "\n",
    "**Input:** Array of integers `nums`, integer `target`.\n",
    "\n",
    "**Output:** Indices of two numbers in `nums` that sum to `target`.\n",
    "\n",
    "1. Create an empty dictionary.\n",
    "2. Iterate through `nums`:\n",
    "   - Calculate the difference (`diff`) between `target` and the current number.\n",
    "   - If `diff` is in the dictionary, return its index along with the current index.\n",
    "   - Otherwise, store the current number and its index in the dictionary.\n",
    "3. If no solution is found, return an empty result.\n",
    "\n"
   ]
  },
  {
   "cell_type": "markdown",
   "metadata": {},
   "source": [
    "#### Brute force solution\n",
    "\n",
    "| Runtime      | Memory       |\n",
    "|--------------|--------------|\n",
    "| Beats 32.59% | Beats 15.31% |"
   ]
  },
  {
   "cell_type": "code",
   "execution_count": 1,
   "metadata": {
    "ExecuteTime": {
     "end_time": "2023-09-14T20:17:01.723238Z",
     "start_time": "2023-09-14T20:17:01.437699Z"
    }
   },
   "outputs": [
    {
     "data": {
      "text/plain": [
       "[1, 0]"
      ]
     },
     "execution_count": 1,
     "metadata": {},
     "output_type": "execute_result"
    }
   ],
   "source": [
    "fun twoSum(nums: IntArray, target: Int): IntArray {\n",
    "    val result = IntArray(2)\n",
    "\n",
    "    nums.forEachIndexed { indexOne, numberOne ->\n",
    "        nums.forEachIndexed { indexTwo, numbeTwo ->\n",
    "            if ((numberOne + numbeTwo) == target && indexOne != indexTwo) {\n",
    "                result[0] = indexOne\n",
    "                result[1] = indexTwo\n",
    "            }\n",
    "        }\n",
    "    }\n",
    "    return result\n",
    "}\n",
    "\n",
    "twoSum(intArrayOf(2, 7, 11, 15), 9)\n"
   ]
  },
  {
   "cell_type": "markdown",
   "metadata": {},
   "source": [
    "#### Hash map\n",
    "\n",
    "| Runtime      | Memory       |\n",
    "|--------------|--------------|\n",
    "| Beats 68.18% | Beats 7.61%  |"
   ]
  },
  {
   "cell_type": "code",
   "execution_count": 9,
   "metadata": {
    "ExecuteTime": {
     "end_time": "2023-09-14T20:37:20.006203Z",
     "start_time": "2023-09-14T20:37:19.886932Z"
    }
   },
   "outputs": [
    {
     "data": {
      "text/plain": [
       "[0, 1]"
      ]
     },
     "execution_count": 9,
     "metadata": {},
     "output_type": "execute_result"
    }
   ],
   "source": [
    "fun twoSum(nums: IntArray, target: Int): IntArray {\n",
    "    val map = nums\n",
    "            .mapIndexed { index, value -> Pair(value, index) }\n",
    "            .toMap()\n",
    "\n",
    "    for (i in nums.indices) {\n",
    "        val indexOfNumber = map.get(target - nums[i])\n",
    "\n",
    "        if (indexOfNumber != null && indexOfNumber != i) {\n",
    "            return intArrayOf(i, indexOfNumber)\n",
    "        }\n",
    "    }\n",
    "    return intArrayOf()\n",
    "}\n",
    "\n",
    "twoSum(intArrayOf(2, 7, 11, 15), 9)"
   ]
  },
  {
   "cell_type": "markdown",
   "metadata": {},
   "source": [
    "#### Binary search"
   ]
  },
  {
   "cell_type": "code",
   "execution_count": 16,
   "metadata": {
    "ExecuteTime": {
     "end_time": "2023-09-15T18:04:30.071642Z",
     "start_time": "2023-09-15T18:04:29.943203Z"
    }
   },
   "outputs": [
    {
     "data": {
      "text/plain": [
       "[1, 2]"
      ]
     },
     "execution_count": 16,
     "metadata": {},
     "output_type": "execute_result"
    }
   ],
   "source": [
    "fun twoSum(nums: IntArray, target: Int): IntArray {\n",
    "    val sortedList = nums\n",
    "            .mapIndexed { index, value -> Pair(index, value) }\n",
    "            .sortedBy { it.second }\n",
    "\n",
    "    for (i in nums.indices) {\n",
    "        val list = sortedList\n",
    "                .filter { it.first != i }\n",
    "\n",
    "        val searchResult = list.binarySearch { it.second - (target - nums[i]) }\n",
    "\n",
    "        if (searchResult < 0) {\n",
    "            continue\n",
    "        }\n",
    "\n",
    "        return intArrayOf(i, list.get(searchResult).first)\n",
    "    }\n",
    "    return intArrayOf()\n",
    "}\n",
    "\n",
    "twoSum(intArrayOf(3, 2, 4), 6)"
   ]
  },
  {
   "cell_type": "markdown",
   "metadata": {},
   "source": [
    "## Three sum\n",
    "https://leetcode.com/problems/3sum/\n",
    "\n",
    "### Three Sum Algorithm\n",
    "\n",
    "**Input:** Array of integers `nums`.\n",
    "\n",
    "**Output:** Unique triplets `[nums[i], nums[j], nums[k]]` where `i ≠ j ≠ k` and `nums[i] + nums[j] + nums[k] = 0`.\n",
    "\n",
    "1. Sort `nums` in non-decreasing order.\n",
    "2. Initialize an empty list `result`.\n",
    "3. Iterate through `nums`:\n",
    "   - If the current number is greater than zero, break // it is optimisation (only positive numbers can't sum to 0)\n",
    "   - Skip duplicates by comparing the current number with the previous one:\n",
    "     - If they are the same, continue to the next iteration.\n",
    "   - Use two pointers (`left` and `right`) to find triples summing to 0.\n",
    "   - Add `[nums[i], nums[left], nums[right]]` to `result` if found.\n",
    "\n",
    "| Runtime      | Memory        |\n",
    "|--------------|---------------|\n",
    "| Beats 67.41% | Beats 67.41%  |"
   ]
  },
  {
   "cell_type": "code",
   "execution_count": 11,
   "metadata": {
    "ExecuteTime": {
     "end_time": "2023-09-19T09:06:08.073849Z",
     "start_time": "2023-09-19T09:06:07.947332Z"
    }
   },
   "outputs": [
    {
     "data": {
      "text/plain": [
       "[[-1, -1, 2], [-1, 0, 1]]"
      ]
     },
     "execution_count": 11,
     "metadata": {},
     "output_type": "execute_result"
    }
   ],
   "source": [
    "fun threeSum(nums: IntArray): List<List<Int>> {\n",
    "\n",
    "    var sorted = nums.sorted()\n",
    "    var result = mutableListOf<List<Int>>()\n",
    "\n",
    "    for (i in 0 until sorted.size - 2) {\n",
    "        if (i > 0 && sorted[i] == sorted[i - 1]) continue\n",
    "        var start = i + 1\n",
    "        var end = nums.size - 1\n",
    "\n",
    "        while (start < end) {\n",
    "            val sum = sorted[i] + sorted[start] + sorted[end]\n",
    "\n",
    "            if (sum == 0) {\n",
    "                while (sorted[start] == sorted[start + 1]) {\n",
    "                    start++\n",
    "                }\n",
    "\n",
    "                if (sorted[end] == sorted[end - 1]) {\n",
    "                    end--\n",
    "                }\n",
    "\n",
    "                result.add(listOf(sorted[i], sorted[start], sorted[end]))\n",
    "                end--\n",
    "                start++\n",
    "            } else if (sum > 0) {\n",
    "                end--\n",
    "            } else if (sum < 0) {\n",
    "                start++\n",
    "            }\n",
    "        }\n",
    "    }\n",
    "\n",
    "    return result\n",
    "}\n",
    "\n",
    "\n",
    "Solution().threeSum(intArrayOf(-1, 0, 1, 2, -1, -4))"
   ]
  },
  {
   "cell_type": "markdown",
   "metadata": {},
   "source": []
  },
  {
   "cell_type": "markdown",
   "metadata": {},
   "source": [
    "## Best Time to Buy and Sell Stock\n",
    "https://leetcode.com/problems/best-time-to-buy-and-sell-stock/\n",
    "\n",
    "* Greedy algorithm\n",
    "\n",
    "| Runtime      | Memory       |\n",
    "|--------------|--------------|\n",
    "| Beats 59.24% | Beats 42.63% |"
   ]
  },
  {
   "cell_type": "code",
   "execution_count": null,
   "metadata": {},
   "outputs": [],
   "source": [
    "fun maxProfit(prices: IntArray): Int {\n",
    "    var min = prices[0]\n",
    "    var maxProfit = 0\n",
    "\n",
    "    for (i in 0 until prices.size) {\n",
    "        min = min(min, prices[i])\n",
    "        val profit = prices[i] - min\n",
    "        maxProfit = max(profit, maxProfit)\n",
    "    }\n",
    "\n",
    "    return maxProfit\n",
    "}\n",
    "\n",
    "maxProfit(intArrayOf(7, 1, 5, 3, 6, 4))"
   ]
  },
  {
   "cell_type": "markdown",
   "metadata": {},
   "source": [
    "## Contains duplicates\n",
    "https://leetcode.com/problems/contains-duplicate/\n",
    "\n",
    "| Runtime      | Memory       |\n",
    "|--------------|--------------|\n",
    "| Beats 93.15% | Beats 67.76% |"
   ]
  },
  {
   "cell_type": "code",
   "execution_count": 12,
   "metadata": {
    "ExecuteTime": {
     "end_time": "2023-09-14T21:10:06.535059Z",
     "start_time": "2023-09-14T21:10:06.386473Z"
    }
   },
   "outputs": [
    {
     "data": {
      "text/plain": [
       "true"
      ]
     },
     "execution_count": 12,
     "metadata": {},
     "output_type": "execute_result"
    }
   ],
   "source": [
    "fun containsDuplicate(nums: IntArray): Boolean {\n",
    "    val set = mutableSetOf<Int>()\n",
    "\n",
    "    for (i in nums.indices) {\n",
    "        if (set.contains(nums[i])) {\n",
    "            return true\n",
    "        }\n",
    "\n",
    "        set.add(nums[i])\n",
    "    }\n",
    "    return false\n",
    "}\n",
    "\n",
    "containsDuplicate(intArrayOf(1, 2, 3, 1))"
   ]
  },
  {
   "cell_type": "markdown",
   "metadata": {},
   "source": [
    "## Product of Array Except Self\n",
    "https://leetcode.com/problems/product-of-array-except-self/\n",
    "\n",
    "\n",
    "| Runtime      | Memory       |\n",
    "|--------------|--------------|\n",
    "| Beats 68.04% | Beats 75.57% |"
   ]
  },
  {
   "cell_type": "code",
   "execution_count": 19,
   "metadata": {
    "ExecuteTime": {
     "end_time": "2023-09-14T21:39:19.674629Z",
     "start_time": "2023-09-14T21:39:19.593123Z"
    }
   },
   "outputs": [
    {
     "data": {
      "text/plain": [
       "[24, 12, 8, 6]"
      ]
     },
     "execution_count": 19,
     "metadata": {},
     "output_type": "execute_result"
    }
   ],
   "source": [
    "fun productExceptSelf(nums: IntArray): IntArray {\n",
    "    var leftProduct = 1\n",
    "    var rightProduct = 1\n",
    "\n",
    "    val result = IntArray(nums.size) { 1 }\n",
    "\n",
    "    var i = 0\n",
    "    var j = nums.size - 1\n",
    "\n",
    "    while (i < nums.size) {\n",
    "        result[i] = result[i] * leftProduct // we first need to update result (we except self)\n",
    "        leftProduct = leftProduct * nums[i] // then update left product\n",
    "        result[j] = result[j] * rightProduct\n",
    "        rightProduct = rightProduct * nums[j]\n",
    "\n",
    "        i++\n",
    "        j--\n",
    "    }\n",
    "\n",
    "    return result\n",
    "}\n",
    "\n",
    "productExceptSelf(intArrayOf(1, 2, 3, 4))"
   ]
  },
  {
   "cell_type": "markdown",
   "metadata": {},
   "source": [
    "## Valid sudoku\n",
    "\n",
    "https://leetcode.com/problems/valid-sudoku/"
   ]
  },
  {
   "cell_type": "code",
   "execution_count": 19,
   "metadata": {
    "ExecuteTime": {
     "end_time": "2023-09-15T18:25:12.014727Z",
     "start_time": "2023-09-15T18:25:11.914942Z"
    }
   },
   "outputs": [
    {
     "data": {
      "text/plain": [
       "true"
      ]
     },
     "execution_count": 19,
     "metadata": {},
     "output_type": "execute_result"
    }
   ],
   "source": [
    "fun validSudoku(sudoku: Array<Array<Int>>): Boolean {\n",
    "    val rowElements = mutableSetOf<Int>()\n",
    "    val columnElements = mutableSetOf<Int>()\n",
    "    val subGridElements = mutableMapOf<String, MutableSet<Int>>()\n",
    "\n",
    "    for (i in sudoku.indices) {\n",
    "        for (j in sudoku.first().indices) {\n",
    "            val rowElement = sudoku[i][j]\n",
    "\n",
    "            if (rowElement in rowElements) {\n",
    "                return false\n",
    "            }\n",
    "\n",
    "            rowElements.add(rowElement)\n",
    "\n",
    "            val columnElement = sudoku[j][i]\n",
    "\n",
    "            if (columnElement in columnElements) {\n",
    "                return false\n",
    "            }\n",
    "\n",
    "            columnElements.add(columnElement)\n",
    "\n",
    "            val gridRow = i / 3\n",
    "            val gridColumn = j / 3\n",
    "            val key = \"$gridRow$gridColumn\"\n",
    "\n",
    "            val set = subGridElements.get(key) ?: mutableSetOf()\n",
    "\n",
    "            if (set.contains(rowElement)) {\n",
    "                return false\n",
    "            }\n",
    "\n",
    "            set.add(rowElement)\n",
    "        }\n",
    "        rowElements.clear()\n",
    "        columnElements.clear()\n",
    "    }\n",
    "\n",
    "    return true\n",
    "}\n",
    "\n",
    "val solvedSudoku = arrayOf(\n",
    "        arrayOf(5, 3, 4, 6, 7, 8, 9, 1, 2),\n",
    "        arrayOf(6, 7, 2, 1, 9, 5, 3, 4, 8),\n",
    "        arrayOf(1, 9, 8, 3, 4, 2, 5, 6, 7),\n",
    "        arrayOf(8, 5, 9, 7, 6, 1, 4, 2, 3),\n",
    "        arrayOf(4, 2, 6, 8, 5, 3, 7, 9, 1),\n",
    "        arrayOf(7, 1, 3, 9, 2, 4, 8, 5, 6),\n",
    "        arrayOf(9, 6, 1, 5, 3, 7, 2, 8, 4),\n",
    "        arrayOf(2, 8, 7, 4, 1, 9, 6, 3, 5),\n",
    "        arrayOf(3, 4, 5, 2, 8, 6, 1, 7, 9)\n",
    ")\n",
    "\n",
    "validSudoku(solvedSudoku)"
   ]
  },
  {
   "cell_type": "markdown",
   "metadata": {},
   "source": [
    "## Maximum Subarray\n",
    "https://leetcode.com/problems/maximum-subarray/\n",
    "\n",
    "#### Kadane's algorithm"
   ]
  },
  {
   "cell_type": "code",
   "execution_count": 24,
   "metadata": {
    "ExecuteTime": {
     "end_time": "2023-09-15T18:36:22.192289Z",
     "start_time": "2023-09-15T18:36:22.130332Z"
    }
   },
   "outputs": [
    {
     "data": {
      "text/plain": [
       "6"
      ]
     },
     "execution_count": 24,
     "metadata": {},
     "output_type": "execute_result"
    }
   ],
   "source": [
    "fun maxSubArray(nums: IntArray): Int {\n",
    "    var maxSum = nums[0] // we intialize with first elements\n",
    "    var maxSoFar = nums[0]\n",
    "\n",
    "    for (i in 1 until nums.size) {\n",
    "        maxSoFar = max(nums[i], maxSoFar + nums[i]) // we take a max from nums[i] and maxSoFar + nums[i]\n",
    "        maxSum = max(maxSoFar, maxSum)\n",
    "    }\n",
    "\n",
    "    return maxSum\n",
    "}\n",
    "\n",
    "maxSubArray(intArrayOf(-2, 1, -3, 4, -1, 2, 1, -5, 4))"
   ]
  },
  {
   "cell_type": "markdown",
   "metadata": {},
   "source": [
    "## Maximum Product subarray\n",
    "\n",
    "https://leetcode.com/problems/maximum-product-subarray/\n",
    "\n",
    "| Runtime      | Memory       |\n",
    "|--------------|--------------|\n",
    "| Beats 19.79% | Beats 16.15% |"
   ]
  },
  {
   "cell_type": "code",
   "execution_count": 45,
   "metadata": {
    "ExecuteTime": {
     "end_time": "2023-09-16T09:24:51.535875Z",
     "start_time": "2023-09-16T09:24:51.389254Z"
    }
   },
   "outputs": [
    {
     "data": {
      "text/plain": [
       "6"
      ]
     },
     "execution_count": 45,
     "metadata": {},
     "output_type": "execute_result"
    }
   ],
   "source": [
    "fun maxProduct(nums: IntArray): Int {\n",
    "    var minProduct = nums[0]\n",
    "    var maxProduct = nums[0]\n",
    "    var result = nums[0]\n",
    "\n",
    "    for (i in 1 until nums.size) { // I is important that we start form 1 here\n",
    "        if (nums[i] < 0) {\n",
    "            val tmp = minProduct\n",
    "            minProduct = maxProduct\n",
    "            maxProduct = tmp // swap because min number can became max when mulipied by -1\n",
    "        }\n",
    "\n",
    "        minProduct = min(nums[i], nums[i] * minProduct)\n",
    "        maxProduct = max(nums[i], nums[i] * maxProduct)\n",
    "\n",
    "        result = max(maxProduct, result)\n",
    "    }\n",
    "\n",
    "    return result\n",
    "}\n",
    "\n",
    "maxProduct(intArrayOf(2, 3, -2, 4))"
   ]
  },
  {
   "cell_type": "markdown",
   "metadata": {},
   "source": [
    " ## Find Minimum in Rotated Sorted Array\n",
    " https://leetcode.com/problems/find-minimum-in-rotated-sorted-array/\n"
   ]
  },
  {
   "cell_type": "code",
   "execution_count": 46,
   "metadata": {
    "ExecuteTime": {
     "end_time": "2023-09-16T11:15:26.439188Z",
     "start_time": "2023-09-16T11:15:26.334945Z"
    }
   },
   "outputs": [
    {
     "data": {
      "text/plain": [
       "0"
      ]
     },
     "execution_count": 46,
     "metadata": {},
     "output_type": "execute_result"
    }
   ],
   "source": [
    "fun findMin(nums: IntArray): Int {\n",
    "    var left = 0\n",
    "    var right = nums.size - 1\n",
    "\n",
    "    while (left < right) {\n",
    "        val mid = left + (right - left) / 2\n",
    "\n",
    "        if (nums[mid] > nums[right]) { // the trick is to compare mid with right element (to have a min element)\n",
    "            left = mid + 1             // standard binary search compares mid to target\n",
    "        } else {\n",
    "            right = mid\n",
    "        }\n",
    "    }\n",
    "\n",
    "    return nums[left]\n",
    "}\n",
    "\n",
    "findMin(intArrayOf(4, 5, 6, 7, 0, 1, 2))"
   ]
  },
  {
   "cell_type": "markdown",
   "metadata": {},
   "source": [
    "## Remove duplicates II\n",
    "https://leetcode.com/problems/remove-duplicates-from-sorted-array-ii"
   ]
  },
  {
   "cell_type": "code",
   "execution_count": null,
   "metadata": {},
   "outputs": [],
   "source": [
    "class Solution {\n",
    "    fun removeDuplicates(nums: IntArray): Int {\n",
    "        var leftShift = 0\n",
    "\n",
    "        for (i in nums.indices) {\n",
    "            if (i + 1 < nums.size && nums[i] == nums[i + 1]) {\n",
    "                leftShift++\n",
    "            } else {\n",
    "                nums[i - leftShift] = nums[i]\n",
    "            }\n",
    "\n",
    "            if (nums.size - leftShift == i) {\n",
    "                nums[i] = 0\n",
    "            }\n",
    "        }\n",
    "\n",
    "        return nums.size - leftShift\n",
    "    }\n",
    "}"
   ]
  },
  {
   "cell_type": "markdown",
   "metadata": {},
   "source": [
    "## Ransom Note\n",
    "https://leetcode.com/problems/ransom-note/"
   ]
  },
  {
   "cell_type": "code",
   "execution_count": null,
   "metadata": {},
   "outputs": [],
   "source": [
    "class Solution {\n",
    "    fun canConstruct(ransomNote: String, magazine: String): Boolean {\n",
    "        // if ransomNote can be contructed from magazine\n",
    "\n",
    "        val letters = IntArray(26)\n",
    "\n",
    "        for (i in magazine.indices) {\n",
    "            letters[magazine[i] - 'a']++\n",
    "        }\n",
    "\n",
    "        for (char in ransomNote) {\n",
    "            if (letters[char - 'a'] > 0) {\n",
    "                letters[char - 'a']--\n",
    "            } else {\n",
    "                return false\n",
    "            }\n",
    "        }\n",
    "\n",
    "        return true\n",
    "    }\n",
    "}"
   ]
  },
  {
   "cell_type": "markdown",
   "metadata": {},
   "source": [
    " ## Longest Palindrome\n",
    "https://leetcode.com/problems/longest-palindrome/"
   ]
  },
  {
   "cell_type": "code",
   "execution_count": 2,
   "metadata": {
    "ExecuteTime": {
     "end_time": "2023-09-25T11:19:36.522333Z",
     "start_time": "2023-09-25T11:19:36.344044Z"
    }
   },
   "outputs": [
    {
     "data": {
      "text/plain": [
       "1"
      ]
     },
     "execution_count": 2,
     "metadata": {},
     "output_type": "execute_result"
    }
   ],
   "source": [
    "class Solution {\n",
    "    fun longestPalindrome(s: String): Int {\n",
    "        val letters = mutableMapOf<Char, Int>()\n",
    "        var numberOfSingleLetters = 0\n",
    "        var maxLength = 0\n",
    "\n",
    "        s.forEach { letter ->\n",
    "            val value = letters.getOrDefault(letter, 0)\n",
    "\n",
    "            if (value + 1 % 2 == 0) {\n",
    "                maxLength++\n",
    "                numberOfSingleLetters--\n",
    "            } else {\n",
    "                numberOfSingleLetters++\n",
    "            }\n",
    "            letters.put(letter, value + 1)\n",
    "        }\n",
    "\n",
    "        return if (numberOfSingleLetters > 0) {\n",
    "            maxLength + 1\n",
    "        } else {\n",
    "            maxLength\n",
    "        }\n",
    "    }\n",
    "}\n",
    "\n",
    "Solution().longestPalindrome(\"test\")"
   ]
  },
  {
   "cell_type": "markdown",
   "metadata": {},
   "source": [
    "## Middle of the Linked List\n",
    "\n",
    "https://leetcode.com/problems/middle-of-the-linked-list/"
   ]
  },
  {
   "cell_type": "code",
   "execution_count": 3,
   "metadata": {},
   "outputs": [
    {
     "data": {
      "text/plain": [
       "null"
      ]
     },
     "execution_count": 3,
     "metadata": {},
     "output_type": "execute_result"
    }
   ],
   "source": [
    " class ListNode(var `val`: Int) {\n",
    "      var next: ListNode? = null\n",
    "}\n",
    " \n",
    "class Solution {\n",
    "    fun middleNode(head: ListNode?): ListNode? {\n",
    "        var slow = head\n",
    "        var fast = head\n",
    "        \n",
    "        while(fast != null && fast.next != null) {\n",
    "            slow = slow?.next\n",
    "            fast = fast.next?.next\n",
    "        }\n",
    "        \n",
    "        \n",
    "        return slow\n",
    "    }\n",
    "}\n",
    "\n",
    "Solution().middleNode(null)"
   ]
  },
  {
   "cell_type": "code",
   "execution_count": null,
   "metadata": {},
   "outputs": [],
   "source": []
  }
 ],
 "metadata": {
  "kernelspec": {
   "display_name": "Kotlin",
   "language": "kotlin",
   "name": "kotlin"
  },
  "ktnbPluginMetadata": {
   "isAddProjectLibrariesToClasspath": false
  },
  "language_info": {
   "codemirror_mode": "text/x-kotlin",
   "file_extension": ".kt",
   "mimetype": "text/x-kotlin",
   "name": "kotlin",
   "nbconvert_exporter": "",
   "pygments_lexer": "kotlin",
   "version": "1.8.20"
  }
 },
 "nbformat": 4,
 "nbformat_minor": 1
}
