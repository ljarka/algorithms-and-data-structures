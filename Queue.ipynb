{
 "cells": [
  {
   "cell_type": "code",
   "execution_count": null,
   "metadata": {
    "collapsed": true
   },
   "outputs": [],
   "source": []
  },
  {
   "cell_type": "code",
   "execution_count": 3,
   "outputs": [
    {
     "name": "stdout",
     "output_type": "stream",
     "text": [
      "1\n",
      "2\n",
      "3\n",
      "4\n"
     ]
    }
   ],
   "source": [
    "// queue  <-[1,2,3,4]<-\n",
    "// stack1   [1,2,3,4] <->\n",
    "// stack2 [1,2,3,4]\n",
    "\n",
    "class MyQueue() {\n",
    "    private val stack1: Stack<Int> = Stack()\n",
    "    fun push(x: Int) {\n",
    "        val tmpStack = Stack<Int>()\n",
    "        while (stack1.isNotEmpty()) {\n",
    "            tmpStack.push(stack1.pop())\n",
    "        }\n",
    "\n",
    "        stack1.push(x)\n",
    "\n",
    "        while (tmpStack.isNotEmpty()) {\n",
    "            stack1.push(tmpStack.pop())\n",
    "        }\n",
    "    }\n",
    "\n",
    "    fun pop(): Int {\n",
    "        return stack1.pop()\n",
    "    }\n",
    "\n",
    "    fun peek(): Int {\n",
    "        return stack1.peek()\n",
    "    }\n",
    "\n",
    "    fun empty(): Boolean {\n",
    "        return stack1.isEmpty()\n",
    "    }\n",
    "}\n",
    "\n",
    "val queue = MyQueue()\n",
    "queue.push(1)\n",
    "queue.push(2)\n",
    "queue.push(3)\n",
    "queue.push(4)\n",
    "\n",
    "while (!queue.empty()) {\n",
    "    println(queue.pop())\n",
    "}\n",
    "\n"
   ],
   "metadata": {
    "collapsed": false,
    "ExecuteTime": {
     "end_time": "2023-09-24T08:55:03.268482Z",
     "start_time": "2023-09-24T08:55:03.141372Z"
    }
   }
  },
  {
   "cell_type": "code",
   "execution_count": null,
   "outputs": [],
   "source": [],
   "metadata": {
    "collapsed": false
   }
  }
 ],
 "metadata": {
  "kernelspec": {
   "display_name": "Kotlin",
   "language": "kotlin",
   "name": "kotlin"
  },
  "language_info": {
   "name": "kotlin",
   "version": "1.8.20",
   "mimetype": "text/x-kotlin",
   "file_extension": ".kt",
   "pygments_lexer": "kotlin",
   "codemirror_mode": "text/x-kotlin",
   "nbconvert_exporter": ""
  },
  "ktnbPluginMetadata": {
   "isAddProjectLibrariesToClasspath": false
  }
 },
 "nbformat": 4,
 "nbformat_minor": 0
}
