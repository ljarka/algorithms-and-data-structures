{
 "cells": [
  {
   "cell_type": "markdown",
   "source": [
    "Valid Parentheses\n",
    "\n",
    "https://leetcode.com/problems/valid-parentheses/"
   ],
   "metadata": {
    "collapsed": false
   }
  },
  {
   "cell_type": "code",
   "execution_count": null,
   "outputs": [],
   "source": [
    "import java.util.*\n",
    "\n",
    "class Solution {\n",
    "    fun isValid(s: String): Boolean {\n",
    "        val closedToOpen = mapOf(')' to '(', ']' to '[', '}' to '{')\n",
    "        val stack = Stack<Char>()\n",
    "\n",
    "        for (i in s.indices) {\n",
    "            if (closedToOpen.contains(s[i])) {\n",
    "                val value = closedToOpen.get(s[i])\n",
    "\n",
    "                if (stack.peek() == value) {\n",
    "                    stack.pop()\n",
    "                } else {\n",
    "                    return false\n",
    "                }\n",
    "            } else {\n",
    "                stack.add(s[i])\n",
    "            }\n",
    "        }\n",
    "\n",
    "        return true\n",
    "    }\n",
    "}"
   ],
   "metadata": {
    "collapsed": false
   }
  }
 ],
 "metadata": {
  "kernelspec": {
   "display_name": "Kotlin",
   "language": "kotlin",
   "name": "kotlin"
  },
  "language_info": {
   "name": "kotlin",
   "version": "1.8.20",
   "mimetype": "text/x-kotlin",
   "file_extension": ".kt",
   "pygments_lexer": "kotlin",
   "codemirror_mode": "text/x-kotlin",
   "nbconvert_exporter": ""
  },
  "ktnbPluginMetadata": {
   "isAddProjectLibrariesToClasspath": false
  }
 },
 "nbformat": 4,
 "nbformat_minor": 0
}
