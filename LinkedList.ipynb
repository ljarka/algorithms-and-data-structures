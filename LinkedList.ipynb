{
 "cells": [
  {
   "cell_type": "markdown",
   "metadata": {},
   "source": [
    "# Linked List\n",
    "\n",
    "## Rotate List\n",
    "https://leetcode.com/problems/rotate-list/"
   ]
  },
  {
   "cell_type": "code",
   "execution_count": 41,
   "metadata": {
    "ExecuteTime": {
     "end_time": "2023-09-16T14:08:05.864329Z",
     "start_time": "2023-09-16T14:08:05.723311Z"
    }
   },
   "outputs": [
    {
     "name": "stdout",
     "output_type": "stream",
     "text": [
      "1\n",
      "2\n",
      "3\n",
      "4\n",
      "lastElement 4\n",
      "elementToBreakReference 2\n",
      "####\n",
      "3\n",
      "4\n",
      "1\n",
      "2\n"
     ]
    }
   ],
   "source": [
    "// 1 -> 2 | 3 -> 4 -> null\n",
    "\n",
    "class ListNode(var `val`: Int) {\n",
    "    var next: ListNode? = null\n",
    "}\n",
    "\n",
    "class Solution {\n",
    "    fun rotateRight(head: ListNode?, k: Int): ListNode? {\n",
    "        if (head == null || k == 0) {\n",
    "            return head\n",
    "        }\n",
    "\n",
    "        var length = 1\n",
    "        var lastElement: ListNode? = head\n",
    "\n",
    "        while (lastElement?.next != null) {\n",
    "            lastElement = lastElement.next\n",
    "            length++\n",
    "        }\n",
    "\n",
    "        println(\"lastElement \" + lastElement?.`val`)\n",
    "\n",
    "        lastElement?.next = head // makes list circular\n",
    "\n",
    "        var rotations = k % length\n",
    "        var stepsToMove = length - rotations\n",
    "\n",
    "        var elementToBreakReference = head\n",
    "\n",
    "        while (stepsToMove > 1) {\n",
    "            elementToBreakReference = elementToBreakReference?.next\n",
    "            stepsToMove--\n",
    "        }\n",
    "\n",
    "        var newHead = elementToBreakReference?.next\n",
    "        elementToBreakReference?.next = null\n",
    "\n",
    "        println(\"elementToBreakReference \" + elementToBreakReference?.`val`)\n",
    "\n",
    "        return newHead\n",
    "    }\n",
    "}\n",
    "\n",
    "val head = ListNode(1).apply {\n",
    "    next = ListNode(2).apply {\n",
    "        next = ListNode(3).apply {\n",
    "            next = ListNode(4)\n",
    "        }\n",
    "    }\n",
    "}\n",
    "\n",
    "fun printNode(node: ListNode?) {\n",
    "    var tmp: ListNode? = node\n",
    "    while (tmp != null) {\n",
    "        println(tmp.`val`)\n",
    "        tmp = tmp.next\n",
    "    }\n",
    "}\n",
    "\n",
    "printNode(head)\n",
    "\n",
    "val solution = Solution().rotateRight(head, 2)\n",
    "\n",
    "println(\"####\")\n",
    "\n",
    "printNode(solution)"
   ]
  },
  {
   "cell_type": "markdown",
   "metadata": {},
   "source": [
    "##  Reorder List\n",
    "https://leetcode.com/problems/reorder-list/"
   ]
  },
  {
   "cell_type": "code",
   "execution_count": null,
   "metadata": {},
   "outputs": [],
   "source": [
    "class ListNode(var `val`: Int) {\n",
    "    var next: ListNode? = null\n",
    "}\n",
    "\n",
    "// 1 -> 2 -> 3 -> 4 -> null\n",
    "// 1 -> 4 -> 2 -> 3 -\n",
    "\n",
    "class Solution {\n",
    "    fun reorderList(head: ListNode?): Unit {\n",
    "\n",
    "        var current = head\n",
    "        var previous: ListNode? = null\n",
    "\n",
    "        while (current != null) {\n",
    "            var tmp = current.next\n",
    "            current.next = previous\n",
    "            current = current.next\n",
    "        }\n",
    "    }\n",
    "}"
   ]
  },
  {
   "cell_type": "markdown",
   "metadata": {},
   "source": [
    "## Merge two sorted lists"
   ]
  },
  {
   "cell_type": "code",
   "execution_count": null,
   "metadata": {},
   "outputs": [],
   "source": [
    "class ListNode(var `val`: Int) {\n",
    "    var next: ListNode? = null\n",
    "}\n",
    "\n",
    "class Solution {\n",
    "    fun mergeTwoLists(list1: ListNode?, list2: ListNode?): ListNode? {\n",
    "        if (list1 == null) {\n",
    "            return list2\n",
    "        }\n",
    "\n",
    "        if (list2 == null) {\n",
    "            return list1\n",
    "        }\n",
    "\n",
    "        var current1 = list1\n",
    "        var current2 = list2\n",
    "        var newHead = ListNode(0)\n",
    "        var currentNew = newHead\n",
    "\n",
    "        while (current1 != null && current2 != null) {\n",
    "            if (current1.`val` <= current2.`val`) {\n",
    "                currentNew.next = current1\n",
    "                currentNew = current1\n",
    "                current1 = current1.next\n",
    "            } else {\n",
    "                currentNew.next = current2\n",
    "                currentNew = current2\n",
    "                current2 = current2.next\n",
    "            }\n",
    "        }\n",
    "\n",
    "        if (current1 != null) {\n",
    "            currentNew.next = current1\n",
    "        }\n",
    "\n",
    "        if (current2 != null) {\n",
    "            currentNew.next = current2\n",
    "        }\n",
    "\n",
    "        return newHead.next\n",
    "    }\n",
    "}"
   ]
  },
  {
   "cell_type": "markdown",
   "metadata": {},
   "source": [
    "## Middle of the Linked List\n",
    "https://leetcode.com/problems/middle-of-the-linked-list/"
   ]
  },
  {
   "cell_type": "code",
   "execution_count": null,
   "metadata": {},
   "outputs": [],
   "source": [
    " class ListNode(var `val`: Int) {\n",
    "      var next: ListNode? = null\n",
    "}\n",
    " \n",
    "class Solution {\n",
    "    fun middleNode(head: ListNode?): ListNode? {\n",
    "        var slow = head\n",
    "        var fast = head\n",
    "        \n",
    "        while(fast != null && fast.next != null) {\n",
    "            slow = slow?.next\n",
    "            fast = fast.next?.next\n",
    "        }\n",
    "        \n",
    "        \n",
    "        return slow\n",
    "    }\n",
    "}\n",
    "\n",
    "Solution().middleNode(null)"
   ]
  }
 ],
 "metadata": {
  "kernelspec": {
   "display_name": "Kotlin",
   "language": "kotlin",
   "name": "kotlin"
  },
  "ktnbPluginMetadata": {
   "isAddProjectLibrariesToClasspath": false
  },
  "language_info": {
   "codemirror_mode": "text/x-kotlin",
   "file_extension": ".kt",
   "mimetype": "text/x-kotlin",
   "name": "kotlin",
   "nbconvert_exporter": "",
   "pygments_lexer": "kotlin",
   "version": "1.8.20"
  }
 },
 "nbformat": 4,
 "nbformat_minor": 1
}
