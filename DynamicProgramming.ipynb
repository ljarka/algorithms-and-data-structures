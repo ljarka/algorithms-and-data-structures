{
 "cells": [
  {
   "cell_type": "markdown",
   "source": [
    "# Dynamic programming\n",
    "https://leetcode.com/problems/climbing-stairs/\n",
    "\n",
    "You are climbing a staircase. It takes n steps to reach the top.\n",
    "Each time you can either climb 1 or 2 steps. In how many distinct ways can you climb to the top?"
   ],
   "metadata": {
    "collapsed": false
   }
  },
  {
   "cell_type": "code",
   "execution_count": 30,
   "outputs": [
    {
     "data": {
      "text/plain": "5"
     },
     "execution_count": 30,
     "metadata": {},
     "output_type": "execute_result"
    }
   ],
   "source": [
    "//       _.. n\n",
    "//     _|\n",
    "//   _|\n",
    "// _|\n",
    "\n",
    "class Solution {\n",
    "    fun climbStairs(n: Int): Int {\n",
    "        return climb(n = n, step = 0)\n",
    "    }\n",
    "\n",
    "    private fun climb(n: Int, step: Int): Int {\n",
    "        if (step == n) {\n",
    "            return 1\n",
    "        }\n",
    "\n",
    "        if (step > n) {\n",
    "            return 0\n",
    "        }\n",
    "\n",
    "        return climb(n = n, step = step + 1) + climb(n = n, step + 2)\n",
    "    }\n",
    "}\n",
    "\n",
    "Solution().climbStairs(4)\n"
   ],
   "metadata": {
    "collapsed": false,
    "ExecuteTime": {
     "end_time": "2023-09-19T18:46:30.641430Z",
     "start_time": "2023-09-19T18:46:30.583150Z"
    }
   }
  },
  {
   "cell_type": "markdown",
   "source": [
    "# Recursion\n",
    "## Queue of people analogy"
   ],
   "metadata": {
    "collapsed": false
   }
  },
  {
   "cell_type": "code",
   "execution_count": 3,
   "outputs": [
    {
     "data": {
      "text/plain": "6"
     },
     "execution_count": 3,
     "metadata": {},
     "output_type": "execute_result"
    }
   ],
   "source": [
    "// 👤 -> 👤 -> 👤 -> 👤 -> ()\n",
    "\n",
    "fun numberInQueue(distanceFromAtm: Int): Int {\n",
    "    if (distanceFromAtm == 0) {\n",
    "        return 1\n",
    "    }\n",
    "\n",
    "    return numberInQueue(distanceFromAtm - 1) + 1\n",
    "}\n",
    "\n",
    "numberInQueue(5)"
   ],
   "metadata": {
    "collapsed": false,
    "ExecuteTime": {
     "end_time": "2023-09-20T06:39:49.217119Z",
     "start_time": "2023-09-20T06:39:49.119903Z"
    }
   }
  },
  {
   "cell_type": "code",
   "execution_count": 58,
   "outputs": [
    {
     "data": {
      "text/plain": "4"
     },
     "execution_count": 58,
     "metadata": {},
     "output_type": "execute_result"
    }
   ],
   "source": [
    "data class Person(val nextPerson: Person? = null)\n",
    "\n",
    "val queue = Person(nextPerson = Person(nextPerson = Person(nextPerson = Person())))\n",
    "\n",
    "fun positionInQueue(person: Person): Int {\n",
    "    if (person.nextPerson == null) {\n",
    "        return 1\n",
    "    }\n",
    "\n",
    "    return positionInQueue(person.nextPerson) + 1\n",
    "}\n",
    "\n",
    "positionInQueue(queue)"
   ],
   "metadata": {
    "collapsed": false,
    "ExecuteTime": {
     "end_time": "2023-09-19T19:12:27.536273Z",
     "start_time": "2023-09-19T19:12:27.453054Z"
    }
   }
  },
  {
   "cell_type": "code",
   "execution_count": 2,
   "outputs": [
    {
     "name": "stdout",
     "output_type": "stream",
     "text": [
      "OutOfMemoryError occurred!\n"
     ]
    }
   ],
   "source": [
    "fun tryOutOfMemory() {\n",
    "    val list = mutableListOf<Byte>()\n",
    "\n",
    "    try {\n",
    "        while (true) {\n",
    "            val byteArray = ByteArray(1_000_000) // Allocate 1MB of memory\n",
    "            list.addAll(byteArray.toList())\n",
    "        }\n",
    "    } catch (e: OutOfMemoryError) {\n",
    "        println(\"OutOfMemoryError occurred!\")\n",
    "    }\n",
    "}\n",
    "\n",
    "tryOutOfMemory()"
   ],
   "metadata": {
    "collapsed": false,
    "ExecuteTime": {
     "end_time": "2023-09-20T06:05:41.860633Z",
     "start_time": "2023-09-20T06:05:40.782186Z"
    }
   }
  }
 ],
 "metadata": {
  "kernelspec": {
   "display_name": "Kotlin",
   "language": "kotlin",
   "name": "kotlin"
  },
  "language_info": {
   "name": "kotlin",
   "version": "1.8.20",
   "mimetype": "text/x-kotlin",
   "file_extension": ".kt",
   "pygments_lexer": "kotlin",
   "codemirror_mode": "text/x-kotlin",
   "nbconvert_exporter": ""
  },
  "ktnbPluginMetadata": {
   "isAddProjectLibrariesToClasspath": false
  }
 },
 "nbformat": 4,
 "nbformat_minor": 0
}
