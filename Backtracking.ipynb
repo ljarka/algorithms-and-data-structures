{
 "cells": [
  {
   "cell_type": "markdown",
   "source": [
    "# Backtracking\n",
    "\n",
    "## Permutations"
   ],
   "metadata": {
    "collapsed": false
   }
  },
  {
   "cell_type": "code",
   "execution_count": 3,
   "outputs": [
    {
     "name": "stdout",
     "output_type": "stream",
     "text": [
      "1,2,3\n",
      "1,3,2\n",
      "2,1,3\n",
      "2,3,1\n",
      "3,1,2\n",
      "3,2,1\n"
     ]
    }
   ],
   "source": [
    "fun getAllPermutations(elements: IntArray): List<List<Int>> {\n",
    "    val result = mutableListOf<MutableList<Int>>()\n",
    "\n",
    "    backtrack(elements = elements, result = result, currentPermutation = mutableListOf())\n",
    "\n",
    "    return result\n",
    "}\n",
    "\n",
    "fun backtrack(elements: IntArray, result: MutableList<MutableList<Int>>, currentPermutation: MutableList<Int>) {\n",
    "    if (currentPermutation.size == elements.size) {\n",
    "        result.add(ArrayList(currentPermutation))\n",
    "        return\n",
    "    }\n",
    "\n",
    "    for (element in elements) {\n",
    "        if (currentPermutation.contains(element)) {\n",
    "            continue\n",
    "        }\n",
    "\n",
    "        currentPermutation.add(element)\n",
    "        backtrack(elements, result, currentPermutation)\n",
    "        currentPermutation.removeLast()\n",
    "    }\n",
    "}\n",
    "\n",
    "val result = getAllPermutations(intArrayOf(1, 2, 3))\n",
    "\n",
    "result.forEach {\n",
    "    println(it.joinToString(\",\"))\n",
    "}\n"
   ],
   "metadata": {
    "collapsed": false,
    "ExecuteTime": {
     "end_time": "2023-09-18T09:07:18.358006Z",
     "start_time": "2023-09-18T09:07:18.210304Z"
    }
   }
  },
  {
   "cell_type": "markdown",
   "source": [
    "## Backtracking again"
   ],
   "metadata": {
    "collapsed": false
   }
  },
  {
   "cell_type": "code",
   "execution_count": 5,
   "outputs": [
    {
     "name": "stdout",
     "output_type": "stream",
     "text": [
      "1,2,3\n",
      "1,3,2\n",
      "2,1,3\n",
      "2,3,1\n",
      "3,1,2\n",
      "3,2,1\n"
     ]
    }
   ],
   "source": [
    "fun permutations(nums: IntArray): List<List<Int>> {\n",
    "    val result = mutableListOf<List<Int>>()\n",
    "    backtrack(nums = nums, result = result, currentPermutation = mutableListOf())\n",
    "    return result\n",
    "}\n",
    "\n",
    "fun backtrack(nums: IntArray, result: MutableList<List<Int>>, currentPermutation: MutableList<Int>) {\n",
    "    if (nums.size == currentPermutation.size) {\n",
    "        result.add(ArrayList(currentPermutation))\n",
    "        return\n",
    "    }\n",
    "\n",
    "    for (num in nums) {\n",
    "        if (currentPermutation.contains(num)) {\n",
    "            continue\n",
    "        }\n",
    "\n",
    "        currentPermutation.add(num)\n",
    "\n",
    "        backtrack(nums, result, currentPermutation)\n",
    "\n",
    "        currentPermutation.removeLast()\n",
    "    }\n",
    "}\n",
    "\n",
    "\n",
    "val result = permutations(intArrayOf(1, 2, 3))\n",
    "\n",
    "result.forEach {\n",
    "    println(it.joinToString(\",\"))\n",
    "}\n"
   ],
   "metadata": {
    "collapsed": false,
    "ExecuteTime": {
     "end_time": "2023-09-18T09:18:57.414263Z",
     "start_time": "2023-09-18T09:18:57.280948Z"
    }
   }
  }
 ],
 "metadata": {
  "kernelspec": {
   "display_name": "Kotlin",
   "language": "kotlin",
   "name": "kotlin"
  },
  "language_info": {
   "name": "kotlin",
   "version": "1.8.20",
   "mimetype": "text/x-kotlin",
   "file_extension": ".kt",
   "pygments_lexer": "kotlin",
   "codemirror_mode": "text/x-kotlin",
   "nbconvert_exporter": ""
  },
  "ktnbPluginMetadata": {
   "isAddProjectLibrariesToClasspath": false
  }
 },
 "nbformat": 4,
 "nbformat_minor": 0
}
