{
 "cells": [
  {
   "cell_type": "markdown",
   "source": [
    "# Heap\n",
    "\n",
    "* Heap and PriorityQueue in Java is almost the same concept\n",
    "\n",
    "## Heap test"
   ],
   "metadata": {
    "collapsed": false
   }
  },
  {
   "cell_type": "code",
   "execution_count": 9,
   "outputs": [
    {
     "name": "stdout",
     "output_type": "stream",
     "text": [
      "1\n",
      "2\n",
      "3\n",
      "4\n",
      "5\n"
     ]
    }
   ],
   "source": [
    "import java.util.Collections\n",
    "\n",
    "fun heapTest() {\n",
    "    val list = intArrayOf(1, 3, 2, 4, 5)\n",
    "    val heap = PriorityQueue<Int>()\n",
    "\n",
    "    list.forEach {\n",
    "        heap.add(it)\n",
    "    }\n",
    "\n",
    "    while (heap.isNotEmpty()) {\n",
    "        val element = heap.poll()\n",
    "\n",
    "        println(element)\n",
    "    }\n",
    "}\n",
    "\n",
    "heapTest()\n"
   ],
   "metadata": {
    "collapsed": false,
    "ExecuteTime": {
     "end_time": "2023-09-17T17:30:44.762177Z",
     "start_time": "2023-09-17T17:30:44.673770Z"
    }
   }
  }
 ],
 "metadata": {
  "kernelspec": {
   "display_name": "Kotlin",
   "language": "kotlin",
   "name": "kotlin"
  },
  "language_info": {
   "name": "kotlin",
   "version": "1.8.20",
   "mimetype": "text/x-kotlin",
   "file_extension": ".kt",
   "pygments_lexer": "kotlin",
   "codemirror_mode": "text/x-kotlin",
   "nbconvert_exporter": ""
  },
  "ktnbPluginMetadata": {
   "isAddProjectLibrariesToClasspath": false
  }
 },
 "nbformat": 4,
 "nbformat_minor": 0
}
