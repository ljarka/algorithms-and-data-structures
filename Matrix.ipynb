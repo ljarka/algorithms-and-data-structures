{
 "cells": [
  {
   "cell_type": "markdown",
   "source": [
    "## Flood Fill\n",
    "https://leetcode.com/problems/flood-fill/"
   ],
   "metadata": {
    "collapsed": false
   }
  },
  {
   "cell_type": "code",
   "execution_count": null,
   "outputs": [],
   "source": [
    "class Solution {\n",
    "    fun floodFill(image: Array<IntArray>, sr: Int, sc: Int, color: Int): Array<IntArray> {\n",
    "        val oldColor = image[sr][sc]\n",
    "        if (oldColor != color) {\n",
    "            dfs(image, sr, sc, oldColor, color)\n",
    "        }\n",
    "        return image\n",
    "    }\n",
    "\n",
    "    private fun dfs(image: Array<IntArray>, sr: Int, sc: Int, color: Int, newColor: Int) {\n",
    "        if (image[sr][sc] == newColor) {\n",
    "            return\n",
    "        }\n",
    "\n",
    "        if (sr > 0) dfs(image, sr - 1, sc, color, newColor)\n",
    "\n",
    "        if (sc > 0) dfs(image, sr, sc - 1, color, newColor)\n",
    "\n",
    "        if (sr < image.size - 1) dfs(image, sr + 1, sc, color, newColor)\n",
    "\n",
    "        if (sc < image.first().size - 1) dfs(image, sc, sc + 1, color, newColor)\n",
    "    }\n",
    "}"
   ],
   "metadata": {
    "collapsed": false
   }
  }
 ],
 "metadata": {
  "kernelspec": {
   "display_name": "Kotlin",
   "language": "kotlin",
   "name": "kotlin"
  },
  "language_info": {
   "name": "kotlin",
   "version": "1.8.20",
   "mimetype": "text/x-kotlin",
   "file_extension": ".kt",
   "pygments_lexer": "kotlin",
   "codemirror_mode": "text/x-kotlin",
   "nbconvert_exporter": ""
  },
  "ktnbPluginMetadata": {
   "isAddProjectLibrariesToClasspath": false
  }
 },
 "nbformat": 4,
 "nbformat_minor": 0
}
