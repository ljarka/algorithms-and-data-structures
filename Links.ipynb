{
 "cells": [
  {
   "cell_type": "markdown",
   "source": [
    "# Links\n",
    "\n",
    "[NeetCode](https://neetcode.io/)\n",
    "\n",
    "[VisualAlgo](https://visualgo.net/en)\n",
    "\n",
    "[Blind 75 Questions](https://leetcode.com/discuss/interview-question/460599/Blind-75-LeetCode-Questions)\n",
    "\n",
    "[Interviewing.io](https://interviewing.io/)\n",
    "\n",
    "[ChatGPT](https://chat.openai.com/)\n",
    "\n",
    "##### Example prompts\n",
    "\n",
    "```\n",
    "There are multiple techniques to solve algorithmic problems, similar to Leetcode-style questions e.g.\n",
    "* Dynamic Programming\n",
    "* Backtracking\n",
    "* Two Pointers\n",
    "* Sliding Window\n",
    "* Heap\n",
    "* Bit Manipulation\n",
    "and so on\n",
    "You will ask me algoritmic questions and I will respond which technique i would use. You will verify if thich technique is correct for this problem to achieve optimal solution.\n",
    "```\n",
    "\n",
    "```\n",
    "You will ask me algorithmic problems similar to Leetcode-style questions and I will respond you with algorighm in form of steps.\n",
    "You will verify if algorithm is correct solution for a given problem.\n",
    "```\n",
    "\n",
    "```\n",
    "I want you to act as an instructor in a school, teaching algorithms to beginners. You will provide code examples using python programming language. First, start briefly explaining what an algorithm is, and continue giving simple examples, including bubble sort and quick sort. Later, wait for my prompt for additional questions. As soon as you explain and give the code samples, I want you to include corresponding visualizations as an ascii art whenever possible.\n",
    "```\n",
    "[Awesome chat gpt prompts](https://github.com/f/awesome-chatgpt-prompts)\n",
    "\n",
    "\n",
    "[14 patterns](https://hackernoon.com/14-patterns-to-ace-any-coding-interview-question-c5bb3357f6ed)\n",
    "\n",
    "[Kotlin for interviews](https://medium.com/kotlin-academy/kotlin-for-interviews-part-1-common-data-types-886ea1e40645)\n",
    "\n",
    "[Cracking Coding interview Book](https://www.amazon.com/Cracking-Coding-Interview-Programming-Questions/dp/0984782850)\n",
    "\n",
    "[Introduction to algorithms MIT](https://www.youtube.com/watch?v=ZA-tUyM_y7s&list=PLUl4u3cNGP63EdVPNLG3ToM6LaEUuStEY)\n",
    "\n",
    "[Coding patterns](https://emre.me/categories/#basic-types)\n",
    "\n",
    "[Coding interviews stats](https://algo.monster/problems/stats)"
   ],
   "metadata": {
    "collapsed": false
   }
  },
  {
   "cell_type": "code",
   "execution_count": null,
   "outputs": [],
   "source": [],
   "metadata": {
    "collapsed": false
   }
  }
 ],
 "metadata": {
  "kernelspec": {
   "display_name": "Kotlin",
   "language": "kotlin",
   "name": "kotlin"
  },
  "language_info": {
   "name": "kotlin",
   "version": "1.8.20",
   "mimetype": "text/x-kotlin",
   "file_extension": ".kt",
   "pygments_lexer": "kotlin",
   "codemirror_mode": "text/x-kotlin",
   "nbconvert_exporter": ""
  },
  "ktnbPluginMetadata": {
   "isAddProjectLibrariesToClasspath": false
  }
 },
 "nbformat": 4,
 "nbformat_minor": 0
}
