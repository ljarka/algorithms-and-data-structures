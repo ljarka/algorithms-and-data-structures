{
 "cells": [
  {
   "cell_type": "markdown",
   "source": [
    "# Sliding window\n",
    "\n",
    "## Longest Substring Without Repeating Characters\n",
    "\n",
    "https://leetcode.com/problems/longest-substring-without-repeating-characters/"
   ],
   "metadata": {
    "collapsed": false
   }
  },
  {
   "cell_type": "code",
   "execution_count": 9,
   "outputs": [
    {
     "name": "stdout",
     "output_type": "stream",
     "text": [
      "start 1\n",
      "s[start] m\n",
      "start 2\n",
      "s[start] m\n",
      "start 3\n",
      "s[start] z\n",
      "start 4\n",
      "s[start] u\n",
      "start 5\n",
      "s[start] x\n",
      "start 6\n",
      "s[start] t\n"
     ]
    },
    {
     "data": {
      "text/plain": "5"
     },
     "execution_count": 9,
     "metadata": {},
     "output_type": "execute_result"
    }
   ],
   "source": [
    "fun lengthOfLongestSubstring(s: String): Int {\n",
    "    var elementsSet = mutableSetOf<Char>()\n",
    "    var start = 0\n",
    "    var maxLength = 0\n",
    "\n",
    "    for (end in s.indices) {\n",
    "        if (elementsSet.contains(s[end])) {\n",
    "            while (s[start] != s[end]) {\n",
    "                start++\n",
    "                println(\"start \" + start)\n",
    "                println(\"s[start] \" + s[start])\n",
    "            }\n",
    "\n",
    "        }\n",
    "\n",
    "        elementsSet.add(s[end])\n",
    "\n",
    "        maxLength = max(maxLength, (end - start) + 1)\n",
    "    }\n",
    "\n",
    "    return maxLength\n",
    "}\n",
    "\n",
    "lengthOfLongestSubstring(\"tmmzuxt\")"
   ],
   "metadata": {
    "collapsed": false,
    "ExecuteTime": {
     "end_time": "2023-09-16T19:56:26.792906Z",
     "start_time": "2023-09-16T19:56:26.689844Z"
    }
   }
  },
  {
   "cell_type": "markdown",
   "source": [
    "## Longest Repeating Character Replacement\n",
    "\n",
    "https://leetcode.com/problems/longest-repeating-character-replacement/"
   ],
   "metadata": {
    "collapsed": false
   }
  },
  {
   "cell_type": "code",
   "execution_count": 20,
   "outputs": [
    {
     "data": {
      "text/plain": "4"
     },
     "execution_count": 20,
     "metadata": {},
     "output_type": "execute_result"
    }
   ],
   "source": [
    "class Solution {\n",
    "    fun characterReplacement(s: String, k: Int): Int {\n",
    "\n",
    "        val charactersMap = mutableMapOf<Char, Int>()\n",
    "\n",
    "        var windowStart = 0\n",
    "        var maxLetterCount = 0\n",
    "        var currentWindowSize = 0\n",
    "        var maxWindowSize = 0\n",
    "\n",
    "        for (end in 0 until s.length) {\n",
    "            val increasedValue = (charactersMap.get(s[end]) ?: 0) + 1\n",
    "            charactersMap.put(s[end], increasedValue)\n",
    "            maxLetterCount = max(maxLetterCount, increasedValue)\n",
    "\n",
    "            currentWindowSize = end - windowStart + 1\n",
    "\n",
    "            maxWindowSize = max(currentWindowSize, maxWindowSize)\n",
    "\n",
    "            if (currentWindowSize - maxLetterCount > k) {\n",
    "                val decreasedValue = charactersMap.get(s[end])!! - 1\n",
    "                charactersMap.put(s[windowStart], decreasedValue)\n",
    "                windowStart++\n",
    "            } else {\n",
    "                maxWindowSize = max(currentWindowSize, maxWindowSize)\n",
    "            }\n",
    "        }\n",
    "\n",
    "        return maxWindowSize\n",
    "    }\n",
    "}\n",
    "\n",
    "Solution().characterReplacement(\"ABAB\", 2) // output 4"
   ],
   "metadata": {
    "collapsed": false,
    "ExecuteTime": {
     "end_time": "2023-09-17T16:55:37.647477Z",
     "start_time": "2023-09-17T16:55:37.560878Z"
    }
   }
  },
  {
   "cell_type": "markdown",
   "source": [
    "##  Permutation in String\n",
    "https://leetcode.com/problems/permutation-in-string/\n",
    "\n",
    "### Replace first (expensive regarding time complexity)"
   ],
   "metadata": {
    "collapsed": false
   }
  },
  {
   "cell_type": "code",
   "execution_count": 3,
   "outputs": [
    {
     "data": {
      "text/plain": "true"
     },
     "execution_count": 3,
     "metadata": {},
     "output_type": "execute_result"
    }
   ],
   "source": [
    "class Solution {\n",
    "    fun checkInclusion(s1: String, s2: String): Boolean {\n",
    "        // s2.contains(s1) permutation -> true\n",
    "\n",
    "        var start = 0\n",
    "\n",
    "        for (end in s1.length until s2.length) {\n",
    "            var text = s2.substring(start, end)\n",
    "            for (character in s1) {\n",
    "                text = text.replaceFirst(character.toString(), \"\")\n",
    "            }\n",
    "\n",
    "            if (text.isEmpty()) {\n",
    "                return true\n",
    "            }\n",
    "            start++\n",
    "        }\n",
    "\n",
    "        return false\n",
    "    }\n",
    "}\n",
    "\n",
    "Solution().checkInclusion(\"ab\", \"eidbaooo\")"
   ],
   "metadata": {
    "collapsed": false,
    "ExecuteTime": {
     "end_time": "2023-09-20T07:20:53.609892Z",
     "start_time": "2023-09-20T07:20:53.420800Z"
    }
   }
  },
  {
   "cell_type": "markdown",
   "source": [
    "### Solution with hash map\n",
    "\n",
    "| Runtime      | Memory       |\n",
    "|--------------|--------------|\n",
    "| Beats 19.64% | Beats 5.02%  |"
   ],
   "metadata": {
    "collapsed": false
   }
  },
  {
   "cell_type": "code",
   "execution_count": 32,
   "outputs": [
    {
     "name": "stdout",
     "output_type": "stream",
     "text": [
      "s1 > s2 false\n",
      "windowMap {a=2, b=2, c=2, d=2, e=1, x=1}\n",
      "firstMap {a=2, b=2, c=2, d=2, x=1, e=1}\n"
     ]
    },
    {
     "data": {
      "text/plain": "true"
     },
     "execution_count": 32,
     "metadata": {},
     "output_type": "execute_result"
    }
   ],
   "source": [
    "class Solution {\n",
    "    fun checkInclusion(s1: String, s2: String): Boolean {\n",
    "        if (s1.length > s2.length) return false\n",
    "\n",
    "        val firstMap = mutableMapOf<Char, Int>()\n",
    "        val windowMap = mutableMapOf<Char, Int>()\n",
    "\n",
    "        s1.forEach {\n",
    "            val value = firstMap.getOrPut(it, { 0 })\n",
    "            firstMap.put(it, value + 1)\n",
    "        }\n",
    "\n",
    "        for (i in 0 until s1.length) {\n",
    "            val value = windowMap.getOrPut(s2[i], { 0 }) // first window\n",
    "            windowMap[s2[i]] = value + 1\n",
    "        }\n",
    "\n",
    "        for (i in 0 until s2.length - s1.length) {\n",
    "            println(\"windowMap \" + windowMap)\n",
    "            println(\"firstMap \" + firstMap)\n",
    "\n",
    "            if (firstMap.equals(windowMap)) {\n",
    "                return true\n",
    "            }\n",
    "\n",
    "            val endChar = s2[i + s1.length]\n",
    "            val endValue = windowMap.getOrPut(endChar, { 0 })\n",
    "            windowMap[endChar] = endValue + 1\n",
    "\n",
    "            val startChar = s2[i]\n",
    "            val startValue = windowMap.get(startChar)\n",
    "\n",
    "            if (startValue != null) {\n",
    "                if (startValue - 1 == 0) {\n",
    "                    windowMap.remove(startChar)\n",
    "                } else {\n",
    "                    windowMap.put(startChar, startValue - 1)\n",
    "                }\n",
    "            }\n",
    "\n",
    "        }\n",
    "\n",
    "        return firstMap.equals(windowMap)\n",
    "    }\n",
    "}\n",
    "\n",
    "Solution().checkInclusion(\"abcdxabcde\", \"abcdeabcdx\")"
   ],
   "metadata": {
    "collapsed": false,
    "ExecuteTime": {
     "end_time": "2023-09-20T08:15:33.945516Z",
     "start_time": "2023-09-20T08:15:33.840816Z"
    }
   }
  },
  {
   "cell_type": "markdown",
   "source": [
    "### IntArray instead of hashmap\n",
    "\n",
    "| Runtime      | Memory       |\n",
    "|--------------|--------------|\n",
    "| Beats 84.93% | Beats 58.45% |"
   ],
   "metadata": {
    "collapsed": false
   }
  },
  {
   "cell_type": "code",
   "execution_count": null,
   "outputs": [],
   "source": [
    "class Solution {\n",
    "    fun checkInclusion(s1: String, s2: String): Boolean {\n",
    "        if (s1.length > s2.length) return false\n",
    "\n",
    "        val firstMap = IntArray(26) // 26 letters in the alphabet\n",
    "        val windowMap = IntArray(26)\n",
    "\n",
    "        s1.forEach {\n",
    "            val value = it - 'a'\n",
    "            firstMap[value]++\n",
    "        }\n",
    "\n",
    "        for (i in 0 until s1.length) {\n",
    "            windowMap[s2[i] - 'a']++ // first window\n",
    "        }\n",
    "\n",
    "        for (i in 0 until s2.length - s1.length) {\n",
    "            println(\"windowMap \" + windowMap)\n",
    "            println(\"firstMap \" + firstMap)\n",
    "\n",
    "            if (firstMap.contentEquals(windowMap)) {\n",
    "                return true\n",
    "            }\n",
    "\n",
    "            val endChar = s2[i + s1.length]\n",
    "            windowMap[endChar - 'a']++\n",
    "\n",
    "            val startChar = s2[i]\n",
    "            windowMap[startChar - 'a']--\n",
    "        }\n",
    "\n",
    "        return firstMap.contentEquals(windowMap)\n",
    "    }\n",
    "}\n",
    "\n",
    "Solution().checkInclusion(\"abcdxabcde\", \"abcdeabcdx\")"
   ],
   "metadata": {
    "collapsed": false
   }
  }
 ],
 "metadata": {
  "kernelspec": {
   "display_name": "Kotlin",
   "language": "kotlin",
   "name": "kotlin"
  },
  "language_info": {
   "name": "kotlin",
   "version": "1.8.20",
   "mimetype": "text/x-kotlin",
   "file_extension": ".kt",
   "pygments_lexer": "kotlin",
   "codemirror_mode": "text/x-kotlin",
   "nbconvert_exporter": ""
  },
  "ktnbPluginMetadata": {
   "isAddProjectLibrariesToClasspath": false
  }
 },
 "nbformat": 4,
 "nbformat_minor": 0
}
